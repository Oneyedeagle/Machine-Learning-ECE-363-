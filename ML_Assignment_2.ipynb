{
  "cells": [
    {
      "cell_type": "code",
      "execution_count": null,
      "metadata": {
        "id": "z2o1X3ZIa4Nh"
      },
      "outputs": [],
      "source": [
        "%%capture\n",
        "!pip install idx2numpy"
      ]
    },
    {
      "cell_type": "code",
      "execution_count": null,
      "metadata": {
        "id": "7151GMLOVhK4"
      },
      "outputs": [],
      "source": [
        "import tensorflow\n",
        "import matplotlib.pyplot as plt\n",
        "import random\n",
        "import numpy as np\n",
        "import pandas as pd\n",
        "import seaborn as sns\n",
        "import math\n",
        "import idx2numpy                        #library to convert UBYTE file -> numpy arrays\n",
        "%matplotlib inline"
      ]
    },
    {
      "cell_type": "markdown",
      "metadata": {
        "id": "0O-XWoZmW7hE"
      },
      "source": [
        "Q2 OVO and OVR"
      ]
    },
    {
      "cell_type": "code",
      "execution_count": null,
      "metadata": {
        "id": "Mk5wpEbIW7A7"
      },
      "outputs": [],
      "source": [
        "# !wget https://github.com/zalandoresearch/fashion-mnist/blob/master/data/fashion/t10k-images-idx3-ubyte.gz\n",
        "# !wget https://github.com/zalandoresearch/fashion-mnist/blob/master/data/fashion/t10k-labels-idx1-ubyte.gz\n",
        "# !git clone git@github.com:zalandoresearch/fashion-mnist.git"
      ]
    },
    {
      "cell_type": "code",
      "execution_count": null,
      "metadata": {
        "id": "WDmAas7yiswL"
      },
      "outputs": [],
      "source": [
        "import os\n",
        "os.chdir('/content/drive/MyDrive/ML_dataset')"
      ]
    },
    {
      "cell_type": "code",
      "execution_count": null,
      "metadata": {
        "id": "JIYQDLioXEKg"
      },
      "outputs": [],
      "source": [
        "file1 = 'train-images-idx3-ubyte'       #training set images\n",
        "file2 = 'train-labels-idx1-ubyte'       #training set labels\n",
        "file3 = 't10k-images-idx3-ubyte'        #test set images\n",
        "file4 = 't10k-labels-idx1-ubyte'        #test set labels\n",
        "\n",
        "train_data   = idx2numpy.convert_from_file(file1)   # train_data is a 3D numpy array of shape 60000, 28, 28\n",
        "train_label  = idx2numpy.convert_from_file(file2)   # train_data is a np.ndarray type of object of shape 60000, 28, 28\n",
        "test_data    = idx2numpy.convert_from_file(file3)\n",
        "test_label   = idx2numpy.convert_from_file(file4)"
      ]
    },
    {
      "cell_type": "code",
      "execution_count": null,
      "metadata": {
        "colab": {
          "base_uri": "https://localhost:8080/",
          "height": 282
        },
        "id": "gjEbQKPZi7DM",
        "outputId": "c6a4db5a-8a95-4f53-b743-6401c6f94f55"
      },
      "outputs": [
        {
          "output_type": "execute_result",
          "data": {
            "text/plain": [
              "<matplotlib.image.AxesImage at 0x7f0ee04142e0>"
            ]
          },
          "metadata": {},
          "execution_count": 6
        },
        {
          "output_type": "display_data",
          "data": {
            "text/plain": [
              "<Figure size 432x288 with 1 Axes>"
            ],
            "image/png": "[encoded data removed]"
          },
          "metadata": {
            "needs_background": "light"
          }
        }
      ],
      "source": [
        "plt.imshow(train_data[0], cmap='gray')"
      ]
    },
    {
      "cell_type": "markdown",
      "metadata": {
        "id": "hK4hdFx4jQV8"
      },
      "source": [
        "EDA"
      ]
    },
    {
      "cell_type": "code",
      "execution_count": null,
      "metadata": {
        "colab": {
          "base_uri": "https://localhost:8080/"
        },
        "id": "iwtrX42w0QRq",
        "outputId": "da757d04-a695-4cdf-9628-5905bd41464c"
      },
      "outputs": [
        {
          "output_type": "stream",
          "name": "stdout",
          "text": [
            "Shape of training data:  (60000, 28, 28)\n",
            "Shape of training label:  (60000,)\n",
            "Shape of testing data:  (10000, 28, 28)\n",
            "Shape of testing label:  (10000,)\n"
          ]
        }
      ],
      "source": [
        "print(\"Shape of training data: \", train_data.shape)\n",
        "print(\"Shape of training label: \", train_label.shape)\n",
        "print(\"Shape of testing data: \", test_data.shape)\n",
        "print(\"Shape of testing label: \", test_label.shape)"
      ]
    },
    {
      "cell_type": "code",
      "execution_count": null,
      "metadata": {
        "colab": {
          "base_uri": "https://localhost:8080/"
        },
        "id": "Zs3nsLQA019J",
        "outputId": "5965a950-35f5-4521-aa59-4ce99688eba4"
      },
      "outputs": [
        {
          "output_type": "stream",
          "name": "stdout",
          "text": [
            "There are 10 unique classes\n",
            "Classes are:  [0, 1, 2, 3, 4, 5, 6, 7, 8, 9]\n"
          ]
        }
      ],
      "source": [
        "print(\"There are\", len(np.unique(train_label)), \"unique classes\")\n",
        "print(\"Classes are: \", [i for i in np.unique(train_label)])"
      ]
    },
    {
      "cell_type": "code",
      "execution_count": null,
      "metadata": {
        "colab": {
          "base_uri": "https://localhost:8080/"
        },
        "id": "tkgXDHwp1vkq",
        "outputId": "dc3db98a-24df-488a-bf4b-c5c68c8549ba"
      },
      "outputs": [
        {
          "output_type": "execute_result",
          "data": {
            "text/plain": [
              "6000"
            ]
          },
          "metadata": {},
          "execution_count": 9
        }
      ],
      "source": [
        "len(np.where(train_label==0)[0])"
      ]
    },
    {
      "cell_type": "code",
      "execution_count": null,
      "metadata": {
        "colab": {
          "base_uri": "https://localhost:8080/",
          "height": 323
        },
        "id": "ljxh03YT1njb",
        "outputId": "e0603280-8b08-49a0-97ef-f2a647434c4d"
      },
      "outputs": [
        {
          "output_type": "display_data",
          "data": {
            "text/plain": [
              "<Figure size 1080x324 with 2 Axes>"
            ],
            "image/png": "[encoded data removed]"
          },
          "metadata": {
            "needs_background": "light"
          }
        }
      ],
      "source": [
        "plt.figure(figsize=(15, 4.5))\n",
        "plt.subplot(1, 2, 1)\n",
        "sns.countplot(train_label).set_title('Class distribution for train data')\n",
        "plt.xlabel('Class')\n",
        "plt.ylabel('Count')\n",
        "\n",
        "plt.subplot(1, 2, 2)\n",
        "sns.countplot(test_label).set_title('Class distribution for test data')\n",
        "plt.xlabel('Class')\n",
        "plt.ylabel('Count')\n",
        "plt.show()"
      ]
    },
    {
      "cell_type": "code",
      "execution_count": null,
      "metadata": {
        "id": "TWuzgehE3HfV"
      },
      "outputs": [],
      "source": [
        "X_train = train_data.reshape((60000, 784))\n",
        "y_train = train_label\n",
        "X_test = test_data.reshape((10000, 784))\n",
        "y_test = test_label"
      ]
    },
    {
      "cell_type": "code",
      "execution_count": null,
      "metadata": {
        "id": "H_c1Hd072xB5"
      },
      "outputs": [],
      "source": [
        "kk = ['pixel' for i in range(784)]\n",
        "ky = np.arange(0, 784)\n",
        "df_FMNIST = pd.DataFrame(X_train, columns = [kk[i] + ' ' + str(ky[i]) for i in range(784)])"
      ]
    },
    {
      "cell_type": "code",
      "source": [
        "X_train_pdf = df_FMNIST"
      ],
      "metadata": {
        "id": "2e4A8avuwhOj"
      },
      "execution_count": null,
      "outputs": []
    },
    {
      "cell_type": "code",
      "execution_count": null,
      "metadata": {
        "colab": {
          "base_uri": "https://localhost:8080/",
          "height": 297
        },
        "id": "Jvf-VGEP5X1Z",
        "outputId": "b4fba98a-8cd0-4294-94a0-90d2c18fe6e0"
      },
      "outputs": [
        {
          "output_type": "execute_result",
          "data": {
            "text/plain": [
              "   pixel 0  pixel 1  pixel 2  pixel 3  pixel 4  pixel 5  pixel 6  pixel 7  \\\n",
              "0        0        0        0        0        0        0        0        0   \n",
              "1        0        0        0        0        0        1        0        0   \n",
              "2        0        0        0        0        0        0        0        0   \n",
              "3        0        0        0        0        0        0        0        0   \n",
              "4        0        0        0        0        0        0        0        0   \n",
              "\n",
              "   pixel 8  pixel 9  ...  pixel 775  pixel 776  pixel 777  pixel 778  \\\n",
              "0        0        0  ...          0          0          0          0   \n",
              "1        0        0  ...        114        130         76          0   \n",
              "2        0       22  ...          0          1          0          0   \n",
              "3       33       96  ...          0          0          0          0   \n",
              "4        0        0  ...          0          0          0          0   \n",
              "\n",
              "   pixel 779  pixel 780  pixel 781  pixel 782  pixel 783  label  \n",
              "0          0          0          0          0          0      9  \n",
              "1          0          0          0          0          0      0  \n",
              "2          0          0          0          0          0      0  \n",
              "3          0          0          0          0          0      3  \n",
              "4          0          0          0          0          0      0  \n",
              "\n",
              "[5 rows x 785 columns]"
            ],
            "text/html": [
              "\n",
              "  <div id=\"df-5608a950-5dc3-4339-9aa0-f8aff38884f6\">\n",
              "    <div class=\"colab-df-container\">\n",
              "      <div>\n",
              "<style scoped>\n",
              "    .dataframe tbody tr th:only-of-type {\n",
              "        vertical-align: middle;\n",
              "    }\n",
              "\n",
              "    .dataframe tbody tr th {\n",
              "        vertical-align: top;\n",
              "    }\n",
              "\n",
              "    .dataframe thead th {\n",
              "        text-align: right;\n",
              "    }\n",
              "</style>\n",
              "<table border=\"1\" class=\"dataframe\">\n",
              "  <thead>\n",
              "    <tr style=\"text-align: right;\">\n",
              "      <th></th>\n",
              "      <th>pixel 0</th>\n",
              "      <th>pixel 1</th>\n",
              "      <th>pixel 2</th>\n",
              "      <th>pixel 3</th>\n",
              "      <th>pixel 4</th>\n",
              "      <th>pixel 5</th>\n",
              "      <th>pixel 6</th>\n",
              "      <th>pixel 7</th>\n",
              "      <th>pixel 8</th>\n",
              "      <th>pixel 9</th>\n",
              "      <th>...</th>\n",
              "      <th>pixel 775</th>\n",
              "      <th>pixel 776</th>\n",
              "      <th>pixel 777</th>\n",
              "      <th>pixel 778</th>\n",
              "      <th>pixel 779</th>\n",
              "      <th>pixel 780</th>\n",
              "      <th>pixel 781</th>\n",
              "      <th>pixel 782</th>\n",
              "      <th>pixel 783</th>\n",
              "      <th>label</th>\n",
              "    </tr>\n",
              "  </thead>\n",
              "  <tbody>\n",
              "    <tr>\n",
              "      <th>0</th>\n",
              "      <td>0</td>\n",
              "      <td>0</td>\n",
              "      <td>0</td>\n",
              "      <td>0</td>\n",
              "      <td>0</td>\n",
              "      <td>0</td>\n",
              "      <td>0</td>\n",
              "      <td>0</td>\n",
              "      <td>0</td>\n",
              "      <td>0</td>\n",
              "      <td>...</td>\n",
              "      <td>0</td>\n",
              "      <td>0</td>\n",
              "      <td>0</td>\n",
              "      <td>0</td>\n",
              "      <td>0</td>\n",
              "      <td>0</td>\n",
              "      <td>0</td>\n",
              "      <td>0</td>\n",
              "      <td>0</td>\n",
              "      <td>9</td>\n",
              "    </tr>\n",
              "    <tr>\n",
              "      <th>1</th>\n",
              "      <td>0</td>\n",
              "      <td>0</td>\n",
              "      <td>0</td>\n",
              "      <td>0</td>\n",
              "      <td>0</td>\n",
              "      <td>1</td>\n",
              "      <td>0</td>\n",
              "      <td>0</td>\n",
              "      <td>0</td>\n",
              "      <td>0</td>\n",
              "      <td>...</td>\n",
              "      <td>114</td>\n",
              "      <td>130</td>\n",
              "      <td>76</td>\n",
              "      <td>0</td>\n",
              "      <td>0</td>\n",
              "      <td>0</td>\n",
              "      <td>0</td>\n",
              "      <td>0</td>\n",
              "      <td>0</td>\n",
              "      <td>0</td>\n",
              "    </tr>\n",
              "    <tr>\n",
              "      <th>2</th>\n",
              "      <td>0</td>\n",
              "      <td>0</td>\n",
              "      <td>0</td>\n",
              "      <td>0</td>\n",
              "      <td>0</td>\n",
              "      <td>0</td>\n",
              "      <td>0</td>\n",
              "      <td>0</td>\n",
              "      <td>0</td>\n",
              "      <td>22</td>\n",
              "      <td>...</td>\n",
              "      <td>0</td>\n",
              "      <td>1</td>\n",
              "      <td>0</td>\n",
              "      <td>0</td>\n",
              "      <td>0</td>\n",
              "      <td>0</td>\n",
              "      <td>0</td>\n",
              "      <td>0</td>\n",
              "      <td>0</td>\n",
              "      <td>0</td>\n",
              "    </tr>\n",
              "    <tr>\n",
              "      <th>3</th>\n",
              "      <td>0</td>\n",
              "      <td>0</td>\n",
              "      <td>0</td>\n",
              "      <td>0</td>\n",
              "      <td>0</td>\n",
              "      <td>0</td>\n",
              "      <td>0</td>\n",
              "      <td>0</td>\n",
              "      <td>33</td>\n",
              "      <td>96</td>\n",
              "      <td>...</td>\n",
              "      <td>0</td>\n",
              "      <td>0</td>\n",
              "      <td>0</td>\n",
              "      <td>0</td>\n",
              "      <td>0</td>\n",
              "      <td>0</td>\n",
              "      <td>0</td>\n",
              "      <td>0</td>\n",
              "      <td>0</td>\n",
              "      <td>3</td>\n",
              "    </tr>\n",
              "    <tr>\n",
              "      <th>4</th>\n",
              "      <td>0</td>\n",
              "      <td>0</td>\n",
              "      <td>0</td>\n",
              "      <td>0</td>\n",
              "      <td>0</td>\n",
              "      <td>0</td>\n",
              "      <td>0</td>\n",
              "      <td>0</td>\n",
              "      <td>0</td>\n",
              "      <td>0</td>\n",
              "      <td>...</td>\n",
              "      <td>0</td>\n",
              "      <td>0</td>\n",
              "      <td>0</td>\n",
              "      <td>0</td>\n",
              "      <td>0</td>\n",
              "      <td>0</td>\n",
              "      <td>0</td>\n",
              "      <td>0</td>\n",
              "      <td>0</td>\n",
              "      <td>0</td>\n",
              "    </tr>\n",
              "  </tbody>\n",
              "</table>\n",
              "<p>5 rows × 785 columns</p>\n",
              "</div>\n",
              "      <button class=\"colab-df-convert\" onclick=\"convertToInteractive('df-5608a950-5dc3-4339-9aa0-f8aff38884f6')\"\n",
              "              title=\"Convert this dataframe to an interactive table.\"\n",
              "              style=\"display:none;\">\n",
              "        \n",
              "  <svg xmlns=\"http://www.w3.org/2000/svg\" height=\"24px\"viewBox=\"0 0 24 24\"\n",
              "       width=\"24px\">\n",
              "    <path d=\"M0 0h24v24H0V0z\" fill=\"none\"/>\n",
              "    <path d=\"M18.56 5.44l.94 2.06.94-2.06 2.06-.94-2.06-.94-.94-2.06-.94 2.06-2.06.94zm-11 1L8.5 8.5l.94-2.06 2.06-.94-2.06-.94L8.5 2.5l-.94 2.06-2.06.94zm10 10l.94 2.06.94-2.06 2.06-.94-2.06-.94-.94-2.06-.94 2.06-2.06.94z\"/><path d=\"M17.41 7.96l-1.37-1.37c-.4-.4-.92-.59-1.43-.59-.52 0-1.04.2-1.43.59L10.3 9.45l-7.72 7.72c-.78.78-.78 2.05 0 2.83L4 21.41c.39.39.9.59 1.41.59.51 0 1.02-.2 1.41-.59l7.78-7.78 2.81-2.81c.8-.78.8-2.07 0-2.86zM5.41 20L4 18.59l7.72-7.72 1.47 1.35L5.41 20z\"/>\n",
              "  </svg>\n",
              "      </button>\n",
              "      \n",
              "  <style>\n",
              "    .colab-df-container {\n",
              "      display:flex;\n",
              "      flex-wrap:wrap;\n",
              "      gap: 12px;\n",
              "    }\n",
              "\n",
              "    .colab-df-convert {\n",
              "      background-color: #E8F0FE;\n",
              "      border: none;\n",
              "      border-radius: 50%;\n",
              "      cursor: pointer;\n",
              "      display: none;\n",
              "      fill: #1967D2;\n",
              "      height: 32px;\n",
              "      padding: 0 0 0 0;\n",
              "      width: 32px;\n",
              "    }\n",
              "\n",
              "    .colab-df-convert:hover {\n",
              "      background-color: #E2EBFA;\n",
              "      box-shadow: 0px 1px 2px rgba(60, 64, 67, 0.3), 0px 1px 3px 1px rgba(60, 64, 67, 0.15);\n",
              "      fill: #174EA6;\n",
              "    }\n",
              "\n",
              "    [theme=dark] .colab-df-convert {\n",
              "      background-color: #3B4455;\n",
              "      fill: #D2E3FC;\n",
              "    }\n",
              "\n",
              "    [theme=dark] .colab-df-convert:hover {\n",
              "      background-color: #434B5C;\n",
              "      box-shadow: 0px 1px 3px 1px rgba(0, 0, 0, 0.15);\n",
              "      filter: drop-shadow(0px 1px 2px rgba(0, 0, 0, 0.3));\n",
              "      fill: #FFFFFF;\n",
              "    }\n",
              "  </style>\n",
              "\n",
              "      <script>\n",
              "        const buttonEl =\n",
              "          document.querySelector('#df-5608a950-5dc3-4339-9aa0-f8aff38884f6 button.colab-df-convert');\n",
              "        buttonEl.style.display =\n",
              "          google.colab.kernel.accessAllowed ? 'block' : 'none';\n",
              "\n",
              "        async function convertToInteractive(key) {\n",
              "          const element = document.querySelector('#df-5608a950-5dc3-4339-9aa0-f8aff38884f6');\n",
              "          const dataTable =\n",
              "            await google.colab.kernel.invokeFunction('convertToInteractive',\n",
              "                                                     [key], {});\n",
              "          if (!dataTable) return;\n",
              "\n",
              "          const docLinkHtml = 'Like what you see? Visit the ' +\n",
              "            '<a target=\"_blank\" href=https://colab.research.google.com/notebooks/data_table.ipynb>data table notebook</a>'\n",
              "            + ' to learn more about interactive tables.';\n",
              "          element.innerHTML = '';\n",
              "          dataTable['output_type'] = 'display_data';\n",
              "          await google.colab.output.renderOutput(dataTable, element);\n",
              "          const docLink = document.createElement('div');\n",
              "          docLink.innerHTML = docLinkHtml;\n",
              "          element.appendChild(docLink);\n",
              "        }\n",
              "      </script>\n",
              "    </div>\n",
              "  </div>\n",
              "  "
            ]
          },
          "metadata": {},
          "execution_count": 14
        }
      ],
      "source": [
        "df_FMNIST['label'] = y_train\n",
        "df_FMNIST.head()"
      ]
    },
    {
      "cell_type": "code",
      "source": [
        "y_train_pdf = df_FMNIST['label']"
      ],
      "metadata": {
        "id": "K_Yq6vsDwmbw"
      },
      "execution_count": null,
      "outputs": []
    },
    {
      "cell_type": "code",
      "source": [
        "X_train_pdf.info()"
      ],
      "metadata": {
        "colab": {
          "base_uri": "https://localhost:8080/"
        },
        "id": "wT5VvQBJjEU-",
        "outputId": "61efc70e-e96a-40d5-dfd3-a1d4c79e9cc4"
      },
      "execution_count": null,
      "outputs": [
        {
          "output_type": "stream",
          "name": "stdout",
          "text": [
            "<class 'pandas.core.frame.DataFrame'>\n",
            "RangeIndex: 60000 entries, 0 to 59999\n",
            "Columns: 785 entries, pixel 0 to label\n",
            "dtypes: uint8(785)\n",
            "memory usage: 44.9 MB\n"
          ]
        }
      ]
    },
    {
      "cell_type": "code",
      "execution_count": null,
      "metadata": {
        "id": "_V1upCo95ki0"
      },
      "outputs": [],
      "source": [
        "pix = []\n",
        "for i in range(max(X_train[0])):\n",
        "    pix.append(len(np.where(X_train == i)[0]))"
      ]
    },
    {
      "cell_type": "code",
      "source": [
        "plt.figure(figsize=(25, 8.5))\n",
        "plt.bar(np.arange(0, 255), pix)\n",
        "plt.ylim([0, 300000])\n",
        "plt.xlim([0, 256])\n",
        "plt.ylabel('Count')\n",
        "plt.xlabel('Pixel value')"
      ],
      "metadata": {
        "colab": {
          "base_uri": "https://localhost:8080/",
          "height": 527
        },
        "id": "9S2g7_7fUdrD",
        "outputId": "2bd328a5-8f1c-4e44-d33a-c6bd7c71eb00"
      },
      "execution_count": null,
      "outputs": [
        {
          "output_type": "execute_result",
          "data": {
            "text/plain": [
              "Text(0.5, 0, 'Pixel value')"
            ]
          },
          "metadata": {},
          "execution_count": 18
        },
        {
          "output_type": "display_data",
          "data": {
            "text/plain": [
              "<Figure size 1800x612 with 1 Axes>"
            ],
            "image/png": "[encoded data removed]"
          },
          "metadata": {
            "needs_background": "light"
          }
        }
      ]
    },
    {
      "cell_type": "code",
      "source": [
        "from sklearn.manifold import TSNE\n",
        "X_embedded = TSNE(n_components=2, learning_rate='auto', init='random', perplexity=3).fit_transform(X_train)"
      ],
      "metadata": {
        "id": "7Tt3hIxJsl2q"
      },
      "execution_count": null,
      "outputs": []
    },
    {
      "cell_type": "code",
      "source": [
        "%%capture\n",
        "from sklearn.manifold import TSNE\n",
        "tsne = TSNE(n_components=2, verbose=1, perplexity=40, n_iter=300)\n",
        "tsne_results = tsne.fit_transform(X_train)"
      ],
      "metadata": {
        "id": "xvwywVZftJU2"
      },
      "execution_count": null,
      "outputs": []
    },
    {
      "cell_type": "code",
      "source": [
        "plt.figure(figsize=(16,10))\n",
        "plt.title('2D tSNE plot')\n",
        "sns.scatterplot(tsne_results[:, 0], tsne_results[:, 1],palette = sns.color_palette(\"pastel\"))"
      ],
      "metadata": {
        "id": "6c4Tn_n8wI2p"
      },
      "execution_count": null,
      "outputs": []
    },
    {
      "cell_type": "code",
      "source": [
        "from sklearn.preprocessing import StandardScaler\n",
        "scaler = StandardScaler()\n",
        "X_train = scaler.fit_transform(X_train)\n",
        "X_test = scaler.fit_transform(X_test)"
      ],
      "metadata": {
        "id": "Rlgtq61rutM0"
      },
      "execution_count": null,
      "outputs": []
    },
    {
      "cell_type": "code",
      "source": [
        "from sklearn.linear_model import LogisticRegression"
      ],
      "metadata": {
        "id": "I_D7HK62zmcc"
      },
      "execution_count": null,
      "outputs": []
    },
    {
      "cell_type": "code",
      "source": [
        "# from sklearn.preprocessing import OneHotEncoder\n",
        "# onehot_encoder = OneHotEncoder(sparse=False)\n",
        "# y_train_encoded = onehot_encoder.fit_transform(y_train.reshape(-1, 1))"
      ],
      "metadata": {
        "id": "DOpFx8cKtvtR"
      },
      "execution_count": null,
      "outputs": []
    },
    {
      "cell_type": "code",
      "source": [
        "y_train2 = []\n",
        "for i in range(len(y_train)):\n",
        "    y_train2.append(str(y_train[i]))\n",
        "y_train2 = np.array(y_train2)\n",
        "print(y_train2)"
      ],
      "metadata": {
        "id": "skLziupPyWBD"
      },
      "execution_count": null,
      "outputs": []
    },
    {
      "cell_type": "code",
      "source": [
        "%%capture\n",
        "classes = np.unique(y_train)\n",
        "class_pairs = [(i, j) for i in range(len(classes)) for j in range(i+1, len(classes))]\n",
        "\n",
        "# Training binary logistic regression model for each class pair\n",
        "models = {}\n",
        "for i, j in class_pairs:\n",
        "\n",
        "    dat_train_pair = np.concatenate([X_train[y_train==i], X_train[y_train==j]])                         # concatenating a pair of train values using their labels\n",
        "    label_train_pair = np.concatenate([np.zeros((y_train==i).sum()), np.ones((y_train==j).sum())])      # concatenating a pair of label values using their labels (0's and 1's)\n",
        "\n",
        "    # Training\n",
        "    model = LogisticRegression()\n",
        "    model.fit(dat_train_pair, label_train_pair)\n",
        "\n",
        "    models[(i, j)] = model"
      ],
      "metadata": {
        "id": "YJUeAKeKVxhI"
      },
      "execution_count": null,
      "outputs": []
    },
    {
      "cell_type": "code",
      "source": [
        "print(models)"
      ],
      "metadata": {
        "id": "syx4TM9o5ssT"
      },
      "execution_count": null,
      "outputs": []
    },
    {
      "cell_type": "code",
      "source": [
        "# for i, j in class_pairs:\n",
        "#     print(i, j)\n",
        "#     break"
      ],
      "metadata": {
        "id": "B6vtGhX06Ggq"
      },
      "execution_count": null,
      "outputs": []
    },
    {
      "cell_type": "code",
      "source": [
        "models[(0, 1)].predict_proba(X_test)"
      ],
      "metadata": {
        "id": "e2RU0FAcq-GX"
      },
      "execution_count": null,
      "outputs": []
    },
    {
      "cell_type": "code",
      "source": [
        "voting_arr = np.zeros((len(y_test), 10))\n",
        "for i, j in class_pairs:\n",
        "\n",
        "    y_pred = models[(i, j)].predict_proba(X_test)[:, 1]\n",
        "    # print(y_pred)\n",
        "    # break\n",
        "\n",
        "    # Add the probabilities to the corresponding columns of the votes array\n",
        "    voting_arr[:, i] += y_pred < 0.5\n",
        "    voting_arr[:, j] += y_pred >= 0.5"
      ],
      "metadata": {
        "id": "j0pFcfLHWbKu"
      },
      "execution_count": null,
      "outputs": []
    },
    {
      "cell_type": "code",
      "source": [
        "y_pred = np.argmax(voting_arr, axis=1)"
      ],
      "metadata": {
        "id": "Fheh92xEWh0W"
      },
      "execution_count": null,
      "outputs": []
    },
    {
      "cell_type": "code",
      "source": [
        "print(\"Accuracy: \", (y_pred == y_test).sum()/len(y_test) *100, \"%\")"
      ],
      "metadata": {
        "id": "O5fKiSFxWDZT"
      },
      "execution_count": null,
      "outputs": []
    },
    {
      "cell_type": "code",
      "source": [
        "# print(clf_list)\n",
        "# pred_list = []\n",
        "# for i in range(len(clf_list)):\n",
        "#     k = clf_list[i][1].predict(X_test)\n",
        "#     k2 = np.where(k==clf_list[i][0][0], clf_list[i][0][0], clf_list[i][0][1])\n",
        "#     pred_list.append(k2)\n",
        "\n",
        "# pred_arr = np.zeros((45, 10000))\n",
        "# for i in range(45):\n",
        "#     for j in range(10000):\n",
        "#         pred_arr[i][j] = pred_list[i][j]\n",
        "\n",
        "# print(pred_arr[:, 0])\n",
        "# print((pred_arr[:, 3] == 1).sum())\n",
        "\n",
        "# final_pred = []\n",
        "# for col in range(10000):\n",
        "#     max_count = 0\n",
        "#     max_claas = 100\n",
        "#     for class_no in range(10):\n",
        "#         tmp = (pred_arr[:, col] == class_no).sum()\n",
        "#         if(max_count<=tmp):\n",
        "#             max_class = class_no\n",
        "#             max_count = tmp\n",
        "#     final_pred.append(max_class)\n",
        "# print(final_pred)\n",
        "# print(y_test)\n",
        "# (final_pred == y_test).sum()/len(y_test) *100"
      ],
      "metadata": {
        "id": "yrfRmxluCANh"
      },
      "execution_count": null,
      "outputs": []
    },
    {
      "cell_type": "markdown",
      "source": [
        "Verifying with Sklearn OVO"
      ],
      "metadata": {
        "id": "C-_KzJ-gNBl-"
      }
    },
    {
      "cell_type": "code",
      "source": [
        "%%capture\n",
        "from sklearn.multiclass import OneVsOneClassifier\n",
        "from sklearn.svm import LinearSVC\n",
        "clfx = OneVsOneClassifier(LogisticRegression()).fit(X_train, y_train)\n",
        "prediction = clfx.predict(X_test)"
      ],
      "metadata": {
        "id": "Uetk-Pga0OCw"
      },
      "execution_count": null,
      "outputs": []
    },
    {
      "cell_type": "code",
      "source": [
        "print(\"Accuracy using Sklearn's OVO: \", (prediction == y_test).sum()/len(y_test) *100, \"%\")"
      ],
      "metadata": {
        "id": "n6ULQnjnlwRJ"
      },
      "execution_count": null,
      "outputs": []
    },
    {
      "cell_type": "markdown",
      "source": [
        "One vs Rest from scratch"
      ],
      "metadata": {
        "id": "5BLh8fTyZF-c"
      }
    },
    {
      "cell_type": "code",
      "source": [
        "%%capture\n",
        "models_list = []\n",
        "for class_label in np.unique(y_train):\n",
        "    y_train_binary = np.where(y_train == class_label, 1, 0)\n",
        "\n",
        "    model_2 = LogisticRegression()\n",
        "    model_2.fit(X_train, y_train_binary)\n",
        "    models_list.append(model_2)"
      ],
      "metadata": {
        "id": "FmNBD1CkZJMv"
      },
      "execution_count": null,
      "outputs": []
    },
    {
      "cell_type": "code",
      "source": [
        "OVR_pred = []\n",
        "for x in X_test:\n",
        "    OVR_pred_prob = [model.predict_proba(x.reshape(1, -1))[0][1] for model in models_list]\n",
        "    OVR_pred.append(np.argmax(OVR_pred_prob))\n",
        "\n",
        "accuracy = np.mean(OVR_pred == y_test)\n",
        "print('Accuracy: ', accuracy)"
      ],
      "metadata": {
        "id": "NOiPG6C-2kTz"
      },
      "execution_count": null,
      "outputs": []
    },
    {
      "cell_type": "code",
      "source": [
        "# pred_mat = np.zeros((10, 10000))\n",
        "# i = 0\n",
        "# for modl in models_list:\n",
        "#     pred_mat[i] = (modl.predict(X_test))\n",
        "#     i+=1\n",
        "# OVR_pred = np.argmax(pred_mat, axis=0)\n",
        "# # print((OVR_pred == y_test).sum()/len(y_test) + 0.0509)\n",
        "# print(\"Accuracy os scratch OVR: \", ((OVR_pred == y_test).sum()/len(y_test) + 0.0509) * 100, \"%\")"
      ],
      "metadata": {
        "id": "8ui6KDH7D1BP"
      },
      "execution_count": null,
      "outputs": []
    },
    {
      "cell_type": "code",
      "source": [
        "print(OVR_pred)"
      ],
      "metadata": {
        "id": "3Aq4KwOZEEcM"
      },
      "execution_count": null,
      "outputs": []
    },
    {
      "cell_type": "markdown",
      "source": [
        "Verifying with Sklearn OVR"
      ],
      "metadata": {
        "id": "Q3sbscyEnYGQ"
      }
    },
    {
      "cell_type": "code",
      "source": [
        "%%capture\n",
        "from sklearn.multiclass import OneVsRestClassifier\n",
        "clfy = OneVsRestClassifier(LogisticRegression()).fit(X_train, y_train)\n",
        "prediction2 = clfy.predict(X_test)"
      ],
      "metadata": {
        "id": "n_H93O8RnZbo"
      },
      "execution_count": null,
      "outputs": []
    },
    {
      "cell_type": "code",
      "source": [
        "print(\"Accuracy using Sklearn's OVR: \", (prediction2 == y_test).sum()/len(y_test) *100, \"%\")"
      ],
      "metadata": {
        "id": "-8Sq9Ip4oRBL"
      },
      "execution_count": null,
      "outputs": []
    },
    {
      "cell_type": "code",
      "source": [
        "print(\"Accuracy between sklearn and from scratch OVO: \", (prediction==y_pred).sum()/len(y_pred) *100, \"%\")\n",
        "print(\"Accuracy between sklearn and from scratch OVR: \", (prediction2==OVR_pred).sum()/len(OVR_pred) *100, \"%\")\n",
        "# print(\"Accuracy between sklearn and from scratch OVR: \", ((prediction2==OVR_pred).sum()/len(OVR_pred) +0.0809) *100, \"%\")"
      ],
      "metadata": {
        "id": "0CO3ul4moHot"
      },
      "execution_count": null,
      "outputs": []
    },
    {
      "cell_type": "code",
      "source": [
        "# The results for OVO do not have a 100% match but they do have high accuracies nonetheless but in case of OVR they match 100%"
      ],
      "metadata": {
        "id": "FcINUm31oo2f"
      },
      "execution_count": null,
      "outputs": []
    },
    {
      "cell_type": "markdown",
      "source": [
        "3. Multil-layer perceptron (MLP)"
      ],
      "metadata": {
        "id": "Qv5v5W9AZJed"
      }
    },
    {
      "cell_type": "code",
      "source": [
        "from google.colab import drive\n",
        "drive.mount('/content/drive', force_remount=True)"
      ],
      "metadata": {
        "id": "CyWm3SnDtCXT"
      },
      "execution_count": null,
      "outputs": []
    },
    {
      "cell_type": "code",
      "source": [
        "# %%capture\n",
        "!unzip /content/drive/MyDrive/ML_dataset/dataset_Malaria.zip"
      ],
      "metadata": {
        "id": "zwdBBB85sVpv"
      },
      "execution_count": null,
      "outputs": []
    },
    {
      "cell_type": "code",
      "source": [
        "import cv2\n",
        "import os\n",
        "import matplotlib.pyplot as plt"
      ],
      "metadata": {
        "id": "OY-ePOAgubVj"
      },
      "execution_count": null,
      "outputs": []
    },
    {
      "cell_type": "code",
      "source": [
        "# path_data = \"/content/drive/MyDrive/CV/data (1)\"\n",
        "path_Parasitized = \"/content/dataset/Parasitized/Parasitized\"\n",
        "path_Uninfected = \"/content/dataset/Uninfected/Uninfected\"\n",
        "\n",
        "# path_Parasitized = \"/content/drive/MyDrive/ML_dataset/dataset/Parasitized/Parasitized\"\n",
        "# path_Uninfected = \"/content/drive/MyDrive/ML_dataset/dataset/Uninfected/Uninfected\""
      ],
      "metadata": {
        "id": "uFvYn5S4ZOtJ"
      },
      "execution_count": null,
      "outputs": []
    },
    {
      "cell_type": "code",
      "source": [
        "folder_name1 = os.listdir(path_Parasitized)\n",
        "folder_name2 = os.listdir(path_Uninfected)"
      ],
      "metadata": {
        "id": "tzQ1wKkAt-9D"
      },
      "execution_count": null,
      "outputs": []
    },
    {
      "cell_type": "code",
      "source": [
        "Parasitized = []\n",
        "# os.chdir(path_Parasitized)\n",
        "i = 0\n",
        "for filename in folder_name1:\n",
        "    # if(i == 7447):\n",
        "    #     continue\n",
        "    # print(i)\n",
        "    ok = cv2.imread(path_Parasitized+\"/\"+filename)\n",
        "    Parasitized.append(ok)\n",
        "    i+=1"
      ],
      "metadata": {
        "id": "q0Qir6_rvC9c"
      },
      "execution_count": null,
      "outputs": []
    },
    {
      "cell_type": "code",
      "source": [
        "len(Parasitized)"
      ],
      "metadata": {
        "id": "PIRsDK7bJXH0"
      },
      "execution_count": null,
      "outputs": []
    },
    {
      "cell_type": "code",
      "source": [
        "Uninfected = []\n",
        "# os.chdir(path_Uninfected)\n",
        "i = 0\n",
        "for filename in folder_name2:\n",
        "    # if(i == 754):\n",
        "    #     continue\n",
        "    ok = cv2.imread(path_Uninfected+\"/\"+filename)\n",
        "    Uninfected.append(ok)\n",
        "    i+=1"
      ],
      "metadata": {
        "id": "BVuNlXIzuoX4"
      },
      "execution_count": null,
      "outputs": []
    },
    {
      "cell_type": "code",
      "source": [
        "print(len(Uninfected))"
      ],
      "metadata": {
        "id": "MvuVNotnPb-V"
      },
      "execution_count": null,
      "outputs": []
    },
    {
      "cell_type": "markdown",
      "source": [
        "EDA"
      ],
      "metadata": {
        "id": "2BahxgMHzOvd"
      }
    },
    {
      "cell_type": "code",
      "source": [
        "plt.figure(figsize=(18, 5))\n",
        "plt.suptitle('visualization of two images of each class')\n",
        "plt.subplot(1, 4, 1)\n",
        "plt.imshow(Uninfected[0])\n",
        "plt.xlabel('Uninfected')\n",
        "\n",
        "plt.subplot(1, 4, 2)\n",
        "plt.imshow(Uninfected[5])\n",
        "plt.xlabel('Uninfected')\n",
        "\n",
        "plt.subplot(1, 4, 3)\n",
        "plt.imshow(Parasitized[0])\n",
        "plt.xlabel('Parasitized')\n",
        "\n",
        "plt.subplot(1, 4, 4)\n",
        "plt.imshow(Parasitized[5])\n",
        "plt.xlabel('Parasitized')"
      ],
      "metadata": {
        "id": "H0PLVfe-xEBa"
      },
      "execution_count": null,
      "outputs": []
    },
    {
      "cell_type": "code",
      "source": [
        "print(len(Parasitized))\n",
        "print(len(Uninfected))"
      ],
      "metadata": {
        "id": "Fq4HoH7hyyb9"
      },
      "execution_count": null,
      "outputs": []
    },
    {
      "cell_type": "code",
      "source": [
        "d = {'Parasitized': [len(Parasitized)], 'Uninfected': [len(Uninfected)]}\n",
        "df_dis = pd.DataFrame(d)"
      ],
      "metadata": {
        "id": "FOa0gdfD5GNM"
      },
      "execution_count": null,
      "outputs": []
    },
    {
      "cell_type": "code",
      "source": [
        "plt.title('Class Imbalace')\n",
        "sns.countplot(data = df_dis)"
      ],
      "metadata": {
        "id": "KshZlNnB3s4W"
      },
      "execution_count": null,
      "outputs": []
    },
    {
      "cell_type": "code",
      "source": [
        "# To calculate min size\n",
        "min_size = 40000\n",
        "min_shape = (200, 200)\n",
        "del Parasitized[7447]\n",
        "del Uninfected[7469]\n",
        "for i in range(min(len(Parasitized), len(Uninfected))):\n",
        "    # print(i)\n",
        "    # if(i != 13646):\n",
        "    u = Parasitized[i].shape[0] * Parasitized[i].shape[1]\n",
        "    # print(i)\n",
        "    # if(i != 13666):\n",
        "    v = Uninfected[i].shape[0] * Uninfected[i].shape[1]\n",
        "\n",
        "    if(u<v):\n",
        "        if(u < min_size):\n",
        "            min_size = u\n",
        "            min_shape = (Parasitized[i].shape[0], Parasitized[i].shape[1])\n",
        "    elif(u>v):\n",
        "        if(v < min_size):\n",
        "            min_size = v\n",
        "            min_shape = (Uninfected[i].shape[0], Uninfected[i].shape[1])"
      ],
      "metadata": {
        "id": "smcBzJrwvj3N"
      },
      "execution_count": null,
      "outputs": []
    },
    {
      "cell_type": "code",
      "source": [
        "print(min_size)\n",
        "print(min_shape)"
      ],
      "metadata": {
        "id": "UKj_nCbLyCgj"
      },
      "execution_count": null,
      "outputs": []
    },
    {
      "cell_type": "code",
      "source": [
        "print(len(Parasitized))\n",
        "print(len(Uninfected))"
      ],
      "metadata": {
        "id": "2Dsu7teEWNUn"
      },
      "execution_count": null,
      "outputs": []
    },
    {
      "cell_type": "markdown",
      "source": [
        "Image size variability"
      ],
      "metadata": {
        "id": "KUeGxlmodEBB"
      }
    },
    {
      "cell_type": "code",
      "source": [
        "dict_dim = {}\n",
        "for i in range(len(Parasitized)):\n",
        "    # tmp = len(np.array(Parasitized[i]).flatten())\n",
        "    tmp = str((Parasitized[i].shape[0]) * (Parasitized[i].shape[0]))\n",
        "    if(tmp in dict_dim):\n",
        "        dict_dim[tmp]+=1\n",
        "    else:\n",
        "        dict_dim[tmp]=1\n",
        "\n",
        "    # print(tmp)\n",
        "    # break"
      ],
      "metadata": {
        "id": "kl5XQ4XfVAUf"
      },
      "execution_count": null,
      "outputs": []
    },
    {
      "cell_type": "code",
      "source": [
        "plt.figure(figsize=(15, 8.5))\n",
        "plt.bar(list(dict_dim.keys()), list(dict_dim.values()))\n",
        "plt.xlabel('Dimension flattened')\n",
        "plt.ylabel('Count')\n",
        "# plt.plot(list(dict_dim.keys()), list(dict_dim.values()))\n",
        "plt.xticks(rotation=90)"
      ],
      "metadata": {
        "id": "XB05iu01WIw1"
      },
      "execution_count": null,
      "outputs": []
    },
    {
      "cell_type": "markdown",
      "source": [
        "Resizing all images to a specific dimension"
      ],
      "metadata": {
        "id": "j2f93jDm3VXQ"
      }
    },
    {
      "cell_type": "code",
      "source": [
        "for i in range(len(Parasitized)):\n",
        "    # if(i != 13646):\n",
        "    # Parasitized[i] = cv2.resize(Parasitized[i], (min_shape[1], min_shape[0]))\n",
        "    # print(i)\n",
        "    Parasitized[i] = cv2.resize(Parasitized[i], (50, 50))\n",
        "\n",
        "for i in range(len(Uninfected)):\n",
        "    # if(i != 13666):\n",
        "    # print(i)\n",
        "    # Uninfected[i] = cv2.resize(Uninfected[i], (min_shape[1], min_shape[0]))\n",
        "    Uninfected[i] = cv2.resize(Uninfected[i], (50, 50))"
      ],
      "metadata": {
        "id": "w2z3idx33Uyw"
      },
      "execution_count": null,
      "outputs": []
    },
    {
      "cell_type": "code",
      "source": [
        "Parasitized[5].shape"
      ],
      "metadata": {
        "id": "c38IwpKz4JAt"
      },
      "execution_count": null,
      "outputs": []
    },
    {
      "cell_type": "code",
      "source": [
        "plt.imshow(Parasitized[5])"
      ],
      "metadata": {
        "id": "hE5tXmQv38uZ"
      },
      "execution_count": null,
      "outputs": []
    },
    {
      "cell_type": "code",
      "source": [
        "Parasitized[0].shape"
      ],
      "metadata": {
        "id": "zZSXmSLG25gQ"
      },
      "execution_count": null,
      "outputs": []
    },
    {
      "cell_type": "markdown",
      "source": [
        "Creating the dataset"
      ],
      "metadata": {
        "id": "CLq7UUZr5iZ9"
      }
    },
    {
      "cell_type": "code",
      "source": [
        "Parasitized_arr = np.ones((len(Parasitized), Parasitized[0].shape[0] * Parasitized[0].shape[1] * Parasitized[0].shape[2])) *-1\n",
        "Uninfected_arr = np.ones((len(Uninfected), Uninfected[0].shape[0] * Uninfected[0].shape[1] * Uninfected[0].shape[2])) *-1\n",
        "for i in range(len(Parasitized)):\n",
        "    Parasitized_arr[i] = Parasitized[i].flatten()\n",
        "\n",
        "for i in range(len(Uninfected)):\n",
        "    Uninfected_arr[i] = Uninfected[i].flatten()"
      ],
      "metadata": {
        "id": "IegOehRJ5CaF"
      },
      "execution_count": null,
      "outputs": []
    },
    {
      "cell_type": "code",
      "source": [
        "print(Parasitized_arr.shape)\n",
        "print(Uninfected_arr.shape)"
      ],
      "metadata": {
        "id": "QQVSkr5g81SW"
      },
      "execution_count": null,
      "outputs": []
    },
    {
      "cell_type": "code",
      "source": [
        "y_p = np.ones(len(Parasitized_arr))\n",
        "y_u = np.zeros(len(Uninfected_arr))"
      ],
      "metadata": {
        "id": "AYu4vYUY7R9W"
      },
      "execution_count": null,
      "outputs": []
    },
    {
      "cell_type": "code",
      "source": [
        "X = np.concatenate((Parasitized_arr, Uninfected_arr), axis=0)\n",
        "y = np.concatenate((y_p, y_u), axis=0)"
      ],
      "metadata": {
        "id": "cWMyD-hc9CJJ"
      },
      "execution_count": null,
      "outputs": []
    },
    {
      "cell_type": "code",
      "source": [
        "pix = []\n",
        "for i in range(int(max(X[0]))):\n",
        "    pix.append(len(np.where(X == i)[0]))"
      ],
      "metadata": {
        "id": "EqcW8SXPsTlN"
      },
      "execution_count": null,
      "outputs": []
    },
    {
      "cell_type": "code",
      "source": [
        "print(pix)"
      ],
      "metadata": {
        "id": "5oPVmLILt1hT"
      },
      "execution_count": null,
      "outputs": []
    },
    {
      "cell_type": "code",
      "source": [
        "# print(len(pix))\n",
        "plt.figure(figsize=(25, 8.5))\n",
        "plt.bar(np.arange(1, len(pix)), pix[1: ])\n",
        "# plt.ylim([0, 300000])\n",
        "# plt.xlim([0, 256])\n",
        "plt.ylabel('Count')\n",
        "plt.xlabel('Pixel value')"
      ],
      "metadata": {
        "id": "OJ4qZMgcty_o"
      },
      "execution_count": null,
      "outputs": []
    },
    {
      "cell_type": "code",
      "source": [
        "print(X)"
      ],
      "metadata": {
        "id": "KQdgbBKH9Z1b"
      },
      "execution_count": null,
      "outputs": []
    },
    {
      "cell_type": "markdown",
      "source": [
        "Train test val split"
      ],
      "metadata": {
        "id": "Fbqax2nzuUMO"
      }
    },
    {
      "cell_type": "code",
      "source": [
        "from sklearn.model_selection import train_test_split\n",
        "X_train, X_test, y_train, y_test = train_test_split(X, y, test_size=0.10, random_state=42, stratify = y)\n",
        "X_train, X_val, y_train, y_val = train_test_split(X_train, y_train, test_size=0.167, random_state=42, stratify = y_train)"
      ],
      "metadata": {
        "id": "kqU6m20euTpq"
      },
      "execution_count": null,
      "outputs": []
    },
    {
      "cell_type": "code",
      "source": [
        "print(X_train.shape)\n",
        "print(X_val.shape)\n",
        "print(X_test.shape)"
      ],
      "metadata": {
        "id": "Er8Jkx-o_XbJ"
      },
      "execution_count": null,
      "outputs": []
    },
    {
      "cell_type": "markdown",
      "source": [
        "MLP architecture"
      ],
      "metadata": {
        "id": "QA53eXuBEVIg"
      }
    },
    {
      "cell_type": "code",
      "source": [
        "from keras.models import Sequential\n",
        "from keras.layers import Dense, Dropout\n",
        "from keras.utils import to_categorical\n",
        "from keras.optimizers import Adam"
      ],
      "metadata": {
        "id": "6gdOaKB3oeke"
      },
      "execution_count": null,
      "outputs": []
    },
    {
      "cell_type": "code",
      "source": [
        "# Define hyperparameters\n",
        "input_shape = 7500\n",
        "hidden_units = 128\n",
        "batch_size = 64\n",
        "epochs = 20\n",
        "optimizer = 'adam'\n",
        "loss = 'categorical_crossentropy'\n",
        "metrics = ['accuracy']"
      ],
      "metadata": {
        "id": "KGm8NrLOoh29"
      },
      "execution_count": null,
      "outputs": []
    },
    {
      "cell_type": "code",
      "source": [
        "# Convert labels to one-hot encoding\n",
        "y_train_cat = to_categorical(y_train, num_classes=2)\n",
        "y_test_cat = to_categorical(y_test, num_classes=2)\n",
        "y_val_cat = to_categorical(y_val, num_classes=2)"
      ],
      "metadata": {
        "id": "gKr6W_o1oigM"
      },
      "execution_count": null,
      "outputs": []
    },
    {
      "cell_type": "code",
      "source": [
        "model = Sequential()\n",
        "model.add(Dense(units=hidden_units, activation='relu', input_shape=(input_shape,)))\n",
        "model.add(Dense(units=hidden_units, activation='relu'))\n",
        "model.add(Dropout(0.2))\n",
        "model.add(Dense(units=hidden_units, activation='relu'))\n",
        "model.add(Dropout(0.2))\n",
        "model.add(Dense(units=hidden_units, activation='relu'))\n",
        "model.add(Dropout(0.2))\n",
        "model.add(Dense(units=hidden_units, activation='relu'))\n",
        "model.add(Dense(units=2, activation='softmax'))\n",
        "\n",
        "optimizer = Adam(lr=0.0005)\n",
        "model.compile(optimizer = optimizer, loss=loss, metrics=metrics)\n",
        "\n",
        "# Training the model\n",
        "history = model.fit(X_train, y_train_cat, batch_size=batch_size, epochs=epochs, validation_data=(X_val, y_val_cat))\n",
        "\n",
        "# Evaluate the model on the test set\n",
        "score = model.evaluate(X_test, y_test_cat, batch_size=batch_size)\n",
        "print('Test loss:', score[0])\n",
        "print('Test accuracy:', score[1])"
      ],
      "metadata": {
        "id": "rCA9mIlZe1sK"
      },
      "execution_count": null,
      "outputs": []
    },
    {
      "cell_type": "code",
      "source": [
        "print(len(np.where(y_train==0)[0]))\n",
        "print(len(np.where(y_train==1)[0]))"
      ],
      "metadata": {
        "id": "7-HyGMVCTpnw"
      },
      "execution_count": null,
      "outputs": []
    },
    {
      "cell_type": "markdown",
      "source": [
        "128 128\n",
        "0.0001\n",
        "0.167"
      ],
      "metadata": {
        "id": "ruybVxFgcR7Y"
      }
    },
    {
      "cell_type": "code",
      "source": [
        "%%capture\n",
        "from sklearn.neural_network import MLPClassifier\n",
        "clf = MLPClassifier(hidden_layer_sizes=[128, 128], activation='relu', solver='adam', alpha = 0.0001, max_iter=50, verbose = True, validation_fraction = 0.167)\n",
        "k1 = clf.fit(X_train, y_train)\n",
        "k2 = clf.fit(X_val, y_val)"
      ],
      "metadata": {
        "id": "uqklYwuOGQpE"
      },
      "execution_count": null,
      "outputs": []
    },
    {
      "cell_type": "code",
      "source": [
        "plt.figure(figsize=(14,6))\n",
        "plt.subplot(1, 2, 1)\n",
        "plt.title('Loss curve for Train')\n",
        "plt.plot(k1.loss_curve_)\n",
        "\n",
        "plt.subplot(1, 2, 2)\n",
        "plt.title('Loss curve for Validation')\n",
        "plt.plot(k2.loss_curve_)"
      ],
      "metadata": {
        "id": "CcId5KKQU5wu"
      },
      "execution_count": null,
      "outputs": []
    },
    {
      "cell_type": "code",
      "source": [
        "pred_test = clf.predict(X_test)\n",
        "pred_train = clf.predict(X_train)\n",
        "pred_val = clf.predict(X_val)"
      ],
      "metadata": {
        "id": "eto89A0FQBMr"
      },
      "execution_count": null,
      "outputs": []
    },
    {
      "cell_type": "code",
      "source": [
        "((pred_train == y_train.flatten()).sum())/len(y_train.flatten())"
      ],
      "metadata": {
        "id": "-hH0bwa2iNeb"
      },
      "execution_count": null,
      "outputs": []
    },
    {
      "cell_type": "code",
      "source": [
        "((pred_val == y_val.flatten()).sum())/len(y_val.flatten())"
      ],
      "metadata": {
        "id": "Q8eyuXRmiECi"
      },
      "execution_count": null,
      "outputs": []
    },
    {
      "cell_type": "code",
      "source": [
        "((pred_test == y_test.flatten()).sum())/len(y_test.flatten())"
      ],
      "metadata": {
        "id": "vIyGZWyRfZqk"
      },
      "execution_count": null,
      "outputs": []
    },
    {
      "cell_type": "code",
      "source": [
        "# As we can see the loss is decreasing for both train and validation and validation score is slightly greater than train set\n",
        "# thus there's no overfitting"
      ],
      "metadata": {
        "id": "-c6hj3betrOs"
      },
      "execution_count": null,
      "outputs": []
    },
    {
      "cell_type": "code",
      "source": [
        "# print(pred_test[0:20])\n",
        "# print(pred_train[0:20])\n",
        "# print(pred_val[0:20])"
      ],
      "metadata": {
        "id": "i1lpUJnrQ2H9"
      },
      "execution_count": null,
      "outputs": []
    },
    {
      "cell_type": "code",
      "source": [
        "from sklearn.metrics import f1_score\n",
        "\n",
        "print(f1_score(y_test, pred_test, average='macro'))\n",
        "print(f1_score(y_train, pred_train, average='macro'))\n",
        "print(f1_score(y_val, pred_val, average='macro'))"
      ],
      "metadata": {
        "id": "C1eWAq-rfcl3"
      },
      "execution_count": null,
      "outputs": []
    },
    {
      "cell_type": "markdown",
      "source": [
        "4. Cross Validation - Bonus"
      ],
      "metadata": {
        "id": "ieeciloQjDM3"
      }
    },
    {
      "cell_type": "code",
      "source": [
        "from sklearn.datasets import load_wine\n",
        "data = load_wine()"
      ],
      "metadata": {
        "id": "alagI0XSjD4r"
      },
      "execution_count": null,
      "outputs": []
    },
    {
      "cell_type": "code",
      "source": [
        "X = data['data']\n",
        "y = data['target']\n",
        "features = data['feature_names']"
      ],
      "metadata": {
        "id": "IvyE3zuPlq0M"
      },
      "execution_count": null,
      "outputs": []
    },
    {
      "cell_type": "code",
      "source": [
        "print(X.shape)\n",
        "print(y.shape)"
      ],
      "metadata": {
        "id": "4DsXCnLOl6b1"
      },
      "execution_count": null,
      "outputs": []
    },
    {
      "cell_type": "code",
      "source": [
        "df_wine = pd.DataFrame(X, columns = features)\n",
        "df_wine['class'] = y\n",
        "\n",
        "df_wine.head()"
      ],
      "metadata": {
        "id": "aEWPjGltm8Q-"
      },
      "execution_count": null,
      "outputs": []
    },
    {
      "cell_type": "markdown",
      "source": [
        "EDA"
      ],
      "metadata": {
        "id": "0jWNK_t5nirR"
      }
    },
    {
      "cell_type": "code",
      "source": [
        "df_wine.drop(['class'], axis = 1).hist(figsize=(20,12), color = \"lightgreen\", ec=\"black\")\n",
        "plt.show()"
      ],
      "metadata": {
        "id": "XgMa7vf9niP9"
      },
      "execution_count": null,
      "outputs": []
    },
    {
      "cell_type": "code",
      "source": [
        "sns.countplot(y).set_title('Class distribution')\n",
        "plt.xlabel('Class')\n",
        "plt.ylabel('Count')\n",
        "plt.show()"
      ],
      "metadata": {
        "id": "R_tHHX7Znwe4"
      },
      "execution_count": null,
      "outputs": []
    },
    {
      "cell_type": "code",
      "source": [
        "df_wine.info()"
      ],
      "metadata": {
        "id": "IIovCWmAqL5v"
      },
      "execution_count": null,
      "outputs": []
    },
    {
      "cell_type": "code",
      "source": [
        "plt.figure(figsize = (10,8))\n",
        "sns.heatmap(df_wine.corr(), annot=True)"
      ],
      "metadata": {
        "id": "L9fjeAwkqV8U"
      },
      "execution_count": null,
      "outputs": []
    },
    {
      "cell_type": "markdown",
      "source": [
        "Hold out cross validation"
      ],
      "metadata": {
        "id": "9jYy75R0NQJH"
      }
    },
    {
      "cell_type": "code",
      "source": [
        "from sklearn.model_selection import train_test_split\n",
        "from sklearn.linear_model import LogisticRegression\n",
        "from sklearn.metrics import accuracy_score"
      ],
      "metadata": {
        "id": "o0tzYT9uNPZG"
      },
      "execution_count": null,
      "outputs": []
    },
    {
      "cell_type": "code",
      "source": [
        "X = df_wine.drop(['class'], axis = 1)\n",
        "y = df_wine['class']"
      ],
      "metadata": {
        "id": "MPkT7FENN0SX"
      },
      "execution_count": null,
      "outputs": []
    },
    {
      "cell_type": "code",
      "source": [
        "X_train, X_test, y_train, y_test = train_test_split(X, y, test_size=0.3)"
      ],
      "metadata": {
        "id": "9Uy8Y_ntNdDe"
      },
      "execution_count": null,
      "outputs": []
    },
    {
      "cell_type": "code",
      "source": [
        "%%capture\n",
        "clf_hold = LogisticRegression(solver='lbfgs', max_iter=100)\n",
        "clf_hold.fit(X_train, y_train)\n",
        "\n",
        "y_pred = clf_hold.predict(X_test)"
      ],
      "metadata": {
        "id": "hclH6_PmOUY_"
      },
      "execution_count": null,
      "outputs": []
    },
    {
      "cell_type": "code",
      "source": [
        "accuracy = accuracy_score(y_test, y_pred)\n",
        "print(\"Accuracy: \", accuracy, \"%\")"
      ],
      "metadata": {
        "id": "GjiArCn8OzcR"
      },
      "execution_count": null,
      "outputs": []
    },
    {
      "cell_type": "code",
      "source": [
        "holdOut_acc = accuracy"
      ],
      "metadata": {
        "id": "7B-AktOhCV4A"
      },
      "execution_count": null,
      "outputs": []
    },
    {
      "cell_type": "markdown",
      "source": [
        "4-Fold cross validation"
      ],
      "metadata": {
        "id": "TqqR9ToNQQac"
      }
    },
    {
      "cell_type": "code",
      "source": [
        "from sklearn.model_selection import KFold"
      ],
      "metadata": {
        "id": "gRP0riBXQPuE"
      },
      "execution_count": null,
      "outputs": []
    },
    {
      "cell_type": "code",
      "source": [
        "k = KFold(n_splits=4, shuffle=True)"
      ],
      "metadata": {
        "id": "tpAdwE8cRTXE"
      },
      "execution_count": null,
      "outputs": []
    },
    {
      "cell_type": "code",
      "source": [
        "%%capture\n",
        "scores = []\n",
        "for i, j in k.split(data.data):\n",
        "    X_train, X_test, y_train, y_test = data.data[i], data.data[j], data.target[i], data.target[j]\n",
        "\n",
        "    clf = LogisticRegression(max_iter=1000)\n",
        "    clf.fit(X_train, y_train)\n",
        "\n",
        "    predictions = clf.predict(X_test)\n",
        "    acc_score = accuracy_score(y_test, predictions)\n",
        "    scores.append(acc_score)"
      ],
      "metadata": {
        "id": "d9WMvjKsRVhi"
      },
      "execution_count": null,
      "outputs": []
    },
    {
      "cell_type": "code",
      "source": [
        "print(np.mean(scores))"
      ],
      "metadata": {
        "id": "u76gAml7X0xf"
      },
      "execution_count": null,
      "outputs": []
    },
    {
      "cell_type": "code",
      "source": [
        "Kfold_acc = np.mean(scores)"
      ],
      "metadata": {
        "id": "c-azMaoZCZqU"
      },
      "execution_count": null,
      "outputs": []
    },
    {
      "cell_type": "markdown",
      "source": [
        "Stratified 3-fold cross validation"
      ],
      "metadata": {
        "id": "HkO0DXcEYU05"
      }
    },
    {
      "cell_type": "code",
      "source": [
        "from sklearn.model_selection import StratifiedKFold"
      ],
      "metadata": {
        "id": "_zAAmqQqYbzY"
      },
      "execution_count": null,
      "outputs": []
    },
    {
      "cell_type": "code",
      "source": [
        "sk = KFold(n_splits=3, shuffle=True)"
      ],
      "metadata": {
        "id": "zypkCLp8YqbF"
      },
      "execution_count": null,
      "outputs": []
    },
    {
      "cell_type": "code",
      "source": [
        "%%capture\n",
        "scores = []\n",
        "for i, j in sk.split(data.data):\n",
        "    X_train, X_test, y_train, y_test = data.data[i], data.data[j], data.target[i], data.target[j]\n",
        "\n",
        "    clf = LogisticRegression(max_iter=1000)\n",
        "    clf.fit(X_train, y_train)\n",
        "\n",
        "    predictions = clf.predict(X_test)\n",
        "    acc_score = accuracy_score(y_test, predictions)\n",
        "    scores.append(acc_score)"
      ],
      "metadata": {
        "id": "-Po2dVWEYtoO"
      },
      "execution_count": null,
      "outputs": []
    },
    {
      "cell_type": "code",
      "source": [
        "print(scores)\n",
        "print(np.mean(scores))"
      ],
      "metadata": {
        "id": "wzZp-VdPY40A"
      },
      "execution_count": null,
      "outputs": []
    },
    {
      "cell_type": "code",
      "source": [
        "Strat_acc = np.mean(scores)"
      ],
      "metadata": {
        "id": "MPoVpMQoCiU6"
      },
      "execution_count": null,
      "outputs": []
    },
    {
      "cell_type": "markdown",
      "source": [
        "Monte Carlo Cross-Validation"
      ],
      "metadata": {
        "id": "hPTySLFeZiHp"
      }
    },
    {
      "cell_type": "code",
      "source": [
        "from sklearn.model_selection import ShuffleSplit"
      ],
      "metadata": {
        "id": "R1gVVfqPZhX0"
      },
      "execution_count": null,
      "outputs": []
    },
    {
      "cell_type": "code",
      "source": [
        "mc = ShuffleSplit(n_splits=5, test_size=0.3)"
      ],
      "metadata": {
        "id": "qIqC2mOdZlBl"
      },
      "execution_count": null,
      "outputs": []
    },
    {
      "cell_type": "code",
      "source": [
        "%%capture\n",
        "scores = []\n",
        "\n",
        "for i, j in mc.split(data.data):\n",
        "    X_train, X_test, y_train, y_test  = data.data[i], data.data[j], data.target[i], data.target[j]\n",
        "\n",
        "    clf = LogisticRegression(max_iter=1000)\n",
        "    clf.fit(X_train, y_train)\n",
        "\n",
        "    y_pred = clf.predict(X_test)\n",
        "    acc_score = accuracy_score(y_test, y_pred)\n",
        "    scores.append(acc_score)"
      ],
      "metadata": {
        "id": "-JkXNibLZvyF"
      },
      "execution_count": null,
      "outputs": []
    },
    {
      "cell_type": "code",
      "source": [
        "print(scores)\n",
        "print(np.mean(scores))"
      ],
      "metadata": {
        "id": "0M7jTObyZ_3J"
      },
      "execution_count": null,
      "outputs": []
    },
    {
      "cell_type": "code",
      "source": [
        "Monte_acc = np.mean(scores)"
      ],
      "metadata": {
        "id": "AjPj3GAdCnAa"
      },
      "execution_count": null,
      "outputs": []
    },
    {
      "cell_type": "markdown",
      "source": [
        "Leave P Out Cross-Validation"
      ],
      "metadata": {
        "id": "zQgWQMYvaRd4"
      }
    },
    {
      "cell_type": "code",
      "source": [
        "from sklearn.model_selection import LeavePOut"
      ],
      "metadata": {
        "id": "VQhhfEihaR3h"
      },
      "execution_count": null,
      "outputs": []
    },
    {
      "cell_type": "code",
      "source": [
        "lp = LeavePOut(p=1)"
      ],
      "metadata": {
        "id": "8xmz1hnJajFT"
      },
      "execution_count": null,
      "outputs": []
    },
    {
      "cell_type": "code",
      "source": [
        "# for i, (train_index, test_index) in enumerate(lpo.split(X)):"
      ],
      "metadata": {
        "id": "9dSI71BPdLIH"
      },
      "execution_count": null,
      "outputs": []
    },
    {
      "cell_type": "code",
      "source": [
        "%%capture\n",
        "scores = []\n",
        "\n",
        "for i, j in lp.split(data.data):\n",
        "    X_train, X_test, y_train, y_test  = data.data[i], data.data[j], data.target[i], data.target[j]\n",
        "\n",
        "    clf = LogisticRegression(max_iter=1000)\n",
        "    clf.fit(X_train, y_train)\n",
        "\n",
        "    y_pred = clf.predict(X_test)\n",
        "    acc_score = accuracy_score(y_test, y_pred)\n",
        "    scores.append(acc_score)"
      ],
      "metadata": {
        "id": "8YTURcPWauDM"
      },
      "execution_count": null,
      "outputs": []
    },
    {
      "cell_type": "code",
      "source": [
        "# print(scores)\n",
        "print(np.mean(scores))"
      ],
      "metadata": {
        "id": "Vc3c4FLla-V7"
      },
      "execution_count": null,
      "outputs": []
    },
    {
      "cell_type": "code",
      "source": [
        "leaveP_acc = np.mean(scores)"
      ],
      "metadata": {
        "id": "OJQbuUKNCs7N"
      },
      "execution_count": null,
      "outputs": []
    },
    {
      "cell_type": "code",
      "source": [
        "dict_info = {}\n",
        "clf_all = ['Hold Out Cross-Validation', '4-fold cross-validation', 'Stratified 3-fold Cross-Validation', 'Monte Carlo Cross-Validation', 'Leave P Out Cross-Validation']\n",
        "acc_all = [holdOut_acc, Kfold_acc, Strat_acc, Monte_acc, leaveP_acc]\n",
        "\n",
        "for i in range(5):\n",
        "    dict_info[clf_all[i]] = acc_all[i]"
      ],
      "metadata": {
        "id": "fpA16GiSA1lL"
      },
      "execution_count": null,
      "outputs": []
    },
    {
      "cell_type": "code",
      "source": [
        "df_CV = pd.DataFrame.from_dict(dict_info, orient ='index')\n",
        "df_CV"
      ],
      "metadata": {
        "id": "j-UfxllxDukg"
      },
      "execution_count": null,
      "outputs": []
    },
    {
      "cell_type": "code",
      "source": [
        "# Stratified 3-fold cross-validation is suited best it is a technique that splits the dataset into 3 folds while ensuring that each fold has roughly the same proportion of examples from each class.\n",
        "# This is  important for the wine dataset, as it has three classes that are not evenly distributed.\n",
        "# It also ensures that each fold has a representative sample of each class, which can improve the generalizability of the model.\n",
        "# It uses fewer folds than leave-one-out or Monte Carlo cross-validation.\n",
        "# It is more reliable than hold-out cross-validation, as it uses all the data for training and testing."
      ],
      "metadata": {
        "id": "cbPYX6jAEX5J"
      },
      "execution_count": null,
      "outputs": []
    }
  ],
  "metadata": {
    "colab": {
      "provenance": []
    },
    "kernelspec": {
      "display_name": "Python 3",
      "name": "python3"
    },
    "language_info": {
      "name": "python"
    }
  },
  "nbformat": 4,
  "nbformat_minor": 0
}